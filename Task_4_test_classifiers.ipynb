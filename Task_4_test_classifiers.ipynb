{
 "cells": [
  {
   "cell_type": "code",
   "execution_count": 92,
   "metadata": {},
   "outputs": [],
   "source": [
    "import math\n",
    "import numpy as np\n",
    "import pandas as pd\n",
    "import seaborn as sns\n",
    "import os, glob\n",
    "import matplotlib.pyplot as plt\n",
    "from sklearn.decomposition import PCA, KernelPCA\n",
    "from sklearn.preprocessing import StandardScaler\n",
    "from sklearn.feature_selection import VarianceThreshold\n",
    "\n",
    "import seaborn as sns\n",
    "from sklearn.model_selection import train_test_split\n",
    "from sklearn.preprocessing import StandardScaler \n",
    "from sklearn import svm\n",
    "from sklearn.metrics import accuracy_score, roc_auc_score\n",
    "from sklearn.metrics import f1_score, confusion_matrix\n",
    "\n",
    "\n",
    "from sklearn.metrics import precision_recall_curve, precision_recall_fscore_support, average_precision_score\n",
    "from sklearn.metrics import recall_score, f1_score, precision_score, PrecisionRecallDisplay\n",
    "from sklearn.preprocessing import label_binarize\n",
    "from itertools import cycle\n",
    "from scipy import interp\n",
    "\n",
    "np.random.seed(1234)\n",
    "\n",
    "import warnings\n",
    "warnings.simplefilter(action='ignore', category=FutureWarning)"
   ]
  },
  {
   "cell_type": "code",
   "execution_count": 93,
   "metadata": {},
   "outputs": [],
   "source": [
    "def get_savings(predictions, y_true, detail=0):\n",
    "    '''\n",
    "    detail: 0 -> show all information\n",
    "            1 -> show conf_matrix, heatmap, savings\n",
    "            2 -> show heatmap and savings\n",
    "    '''\n",
    "    \n",
    "    f1 = f1_score(y_true, predictions, average=\"macro\")\n",
    "    precision = precision_score(y_true, predictions, average=\"macro\")\n",
    "    recall = recall_score(y_true, predictions, average=\"macro\")\n",
    "    conf_mat = confusion_matrix(y_true, predictions)\n",
    "\n",
    "    if detail == 1 or detail == 0:\n",
    "        if detail == 0:\n",
    "            print('F1 =',f1)\n",
    "            print('Precision =',precision)\n",
    "            print('Recall =', recall)\n",
    "        print('confusion matrix\\n', conf_mat)\n",
    "    \n",
    "    cost_matrix = [[0.05, -0.2, -0.2, -0.2, -0.2, -0.2, -0.2],\n",
    "                   [-0.25, 1, -0.3, -0.1, -0.1, -0.1, -0.1],\n",
    "                   [-0.02, -0.1, 1, -0.1, -0.1, -0.1, -0.1],\n",
    "                   [-0.25, -0.1, -0.3, 1, -0.1, -0.1, -0.1],\n",
    "                   [-0.25, -0.1, -0.3, -0.1, 1, -0.1, -0.1],\n",
    "                   [-0.25, -0.1, -0.3, -0.1, -0.1, 1, -0.1],\n",
    "                   [-0.25, -0.1, -0.3, -0.1, -0.1, -0.1, 1]]\n",
    "\n",
    "    savings = np.multiply(cost_matrix, conf_mat)\n",
    "    max_savings = np.sum(np.multiply(cost_matrix,  confusion_matrix(y_true, y_true)))\n",
    "    \n",
    "    # set [0][0] to 2nd highest value to get better heatmap and plot the heatmap\n",
    "    heat = np.copy(conf_mat)\n",
    "    ind = np.argpartition(heat.max(1), -2)[-2:][0]\n",
    "    heat[0,0] = heat.max(1)[ind]\n",
    "    sns.heatmap(heat,cmap=plt.cm.CMRmap_r)\n",
    "    plt.show()\n",
    "    \n",
    "    print('max savings: ', max_savings)\n",
    "    print('savings: ', np.sum(savings), '\\n')"
   ]
  },
  {
   "cell_type": "code",
   "execution_count": 4,
   "metadata": {},
   "outputs": [],
   "source": [
    "labels = pd.read_csv('./trainset_python/reduced_dataset/labels_50.cvs')\n",
    "files = pd.read_csv('./trainset_python/reduced_dataset/files_chosen_50.cvs')"
   ]
  },
  {
   "cell_type": "code",
   "execution_count": 5,
   "metadata": {},
   "outputs": [],
   "source": [
    "files = files.drop(files.columns[[0]], axis=1)"
   ]
  },
  {
   "cell_type": "code",
   "execution_count": 6,
   "metadata": {},
   "outputs": [
    {
     "data": {
      "text/html": [
       "<div>\n",
       "<style scoped>\n",
       "    .dataframe tbody tr th:only-of-type {\n",
       "        vertical-align: middle;\n",
       "    }\n",
       "\n",
       "    .dataframe tbody tr th {\n",
       "        vertical-align: top;\n",
       "    }\n",
       "\n",
       "    .dataframe thead th {\n",
       "        text-align: right;\n",
       "    }\n",
       "</style>\n",
       "<table border=\"1\" class=\"dataframe\">\n",
       "  <thead>\n",
       "    <tr style=\"text-align: right;\">\n",
       "      <th></th>\n",
       "      <th>zcr_mean</th>\n",
       "      <th>raw_melspect_mean_4</th>\n",
       "      <th>raw_melspect_mean_5</th>\n",
       "      <th>raw_melspect_mean_6</th>\n",
       "      <th>raw_melspect_mean_7</th>\n",
       "      <th>raw_melspect_mean_8</th>\n",
       "      <th>raw_melspect_mean_9</th>\n",
       "      <th>raw_melspect_mean_10</th>\n",
       "      <th>raw_melspect_mean_11</th>\n",
       "      <th>raw_melspect_mean_12</th>\n",
       "      <th>...</th>\n",
       "      <th>raw_contrast_mean_3</th>\n",
       "      <th>cln_flatness_mean</th>\n",
       "      <th>cln_centroid_mean</th>\n",
       "      <th>cln_centroid_std</th>\n",
       "      <th>cln_flux_mean</th>\n",
       "      <th>cln_flux_std</th>\n",
       "      <th>cln_energy_std</th>\n",
       "      <th>cln_bandwidth_mean</th>\n",
       "      <th>cln_contrast_mean_3</th>\n",
       "      <th>cln_contrast_mean_4</th>\n",
       "    </tr>\n",
       "  </thead>\n",
       "  <tbody>\n",
       "    <tr>\n",
       "      <th>0</th>\n",
       "      <td>0.167208</td>\n",
       "      <td>0.413676</td>\n",
       "      <td>0.351911</td>\n",
       "      <td>0.182678</td>\n",
       "      <td>-0.001713</td>\n",
       "      <td>-0.367584</td>\n",
       "      <td>-0.493130</td>\n",
       "      <td>-0.811764</td>\n",
       "      <td>-0.494151</td>\n",
       "      <td>-0.535799</td>\n",
       "      <td>...</td>\n",
       "      <td>-0.193519</td>\n",
       "      <td>0.623446</td>\n",
       "      <td>0.948781</td>\n",
       "      <td>-0.596810</td>\n",
       "      <td>-0.447192</td>\n",
       "      <td>-0.487065</td>\n",
       "      <td>-0.443302</td>\n",
       "      <td>-0.147406</td>\n",
       "      <td>-1.066098</td>\n",
       "      <td>-1.427318</td>\n",
       "    </tr>\n",
       "    <tr>\n",
       "      <th>1</th>\n",
       "      <td>0.461319</td>\n",
       "      <td>-0.855740</td>\n",
       "      <td>0.033231</td>\n",
       "      <td>-0.059496</td>\n",
       "      <td>-0.188944</td>\n",
       "      <td>-0.213440</td>\n",
       "      <td>0.041397</td>\n",
       "      <td>0.137262</td>\n",
       "      <td>0.020711</td>\n",
       "      <td>-0.150333</td>\n",
       "      <td>...</td>\n",
       "      <td>-0.444102</td>\n",
       "      <td>0.947370</td>\n",
       "      <td>0.847815</td>\n",
       "      <td>-0.609965</td>\n",
       "      <td>-0.548157</td>\n",
       "      <td>-0.530030</td>\n",
       "      <td>-0.363591</td>\n",
       "      <td>-0.271310</td>\n",
       "      <td>-1.044733</td>\n",
       "      <td>-0.224404</td>\n",
       "    </tr>\n",
       "    <tr>\n",
       "      <th>2</th>\n",
       "      <td>0.854948</td>\n",
       "      <td>0.191515</td>\n",
       "      <td>-0.750290</td>\n",
       "      <td>-0.783740</td>\n",
       "      <td>-0.732563</td>\n",
       "      <td>-0.692779</td>\n",
       "      <td>-0.414533</td>\n",
       "      <td>-1.120994</td>\n",
       "      <td>-0.896223</td>\n",
       "      <td>-0.951161</td>\n",
       "      <td>...</td>\n",
       "      <td>-0.664926</td>\n",
       "      <td>0.872882</td>\n",
       "      <td>1.227718</td>\n",
       "      <td>-0.055447</td>\n",
       "      <td>-0.612837</td>\n",
       "      <td>-0.637614</td>\n",
       "      <td>-0.269222</td>\n",
       "      <td>0.188035</td>\n",
       "      <td>-0.305408</td>\n",
       "      <td>-0.778076</td>\n",
       "    </tr>\n",
       "    <tr>\n",
       "      <th>3</th>\n",
       "      <td>0.822960</td>\n",
       "      <td>-0.165756</td>\n",
       "      <td>0.174313</td>\n",
       "      <td>-0.412357</td>\n",
       "      <td>-0.677561</td>\n",
       "      <td>-0.748280</td>\n",
       "      <td>-0.769436</td>\n",
       "      <td>-1.669452</td>\n",
       "      <td>-2.492285</td>\n",
       "      <td>-0.867254</td>\n",
       "      <td>...</td>\n",
       "      <td>-0.219770</td>\n",
       "      <td>1.150775</td>\n",
       "      <td>1.022415</td>\n",
       "      <td>-0.495100</td>\n",
       "      <td>-0.791180</td>\n",
       "      <td>-0.688336</td>\n",
       "      <td>-0.372902</td>\n",
       "      <td>0.320006</td>\n",
       "      <td>-0.382392</td>\n",
       "      <td>-1.623868</td>\n",
       "    </tr>\n",
       "    <tr>\n",
       "      <th>4</th>\n",
       "      <td>1.185489</td>\n",
       "      <td>0.244198</td>\n",
       "      <td>-0.320617</td>\n",
       "      <td>-0.825520</td>\n",
       "      <td>-0.931514</td>\n",
       "      <td>-0.686089</td>\n",
       "      <td>-1.062352</td>\n",
       "      <td>-1.561100</td>\n",
       "      <td>-0.029832</td>\n",
       "      <td>0.035515</td>\n",
       "      <td>...</td>\n",
       "      <td>-0.886440</td>\n",
       "      <td>0.438736</td>\n",
       "      <td>0.705754</td>\n",
       "      <td>-0.851836</td>\n",
       "      <td>-0.672211</td>\n",
       "      <td>-0.523607</td>\n",
       "      <td>-0.303215</td>\n",
       "      <td>0.116443</td>\n",
       "      <td>-0.754747</td>\n",
       "      <td>-0.204925</td>\n",
       "    </tr>\n",
       "    <tr>\n",
       "      <th>...</th>\n",
       "      <td>...</td>\n",
       "      <td>...</td>\n",
       "      <td>...</td>\n",
       "      <td>...</td>\n",
       "      <td>...</td>\n",
       "      <td>...</td>\n",
       "      <td>...</td>\n",
       "      <td>...</td>\n",
       "      <td>...</td>\n",
       "      <td>...</td>\n",
       "      <td>...</td>\n",
       "      <td>...</td>\n",
       "      <td>...</td>\n",
       "      <td>...</td>\n",
       "      <td>...</td>\n",
       "      <td>...</td>\n",
       "      <td>...</td>\n",
       "      <td>...</td>\n",
       "      <td>...</td>\n",
       "      <td>...</td>\n",
       "      <td>...</td>\n",
       "    </tr>\n",
       "    <tr>\n",
       "      <th>99743</th>\n",
       "      <td>-0.331513</td>\n",
       "      <td>0.688131</td>\n",
       "      <td>0.232498</td>\n",
       "      <td>-0.014584</td>\n",
       "      <td>0.781043</td>\n",
       "      <td>0.300814</td>\n",
       "      <td>0.781700</td>\n",
       "      <td>0.192967</td>\n",
       "      <td>-0.249391</td>\n",
       "      <td>-0.527454</td>\n",
       "      <td>...</td>\n",
       "      <td>-0.038263</td>\n",
       "      <td>0.313846</td>\n",
       "      <td>0.071795</td>\n",
       "      <td>-0.097555</td>\n",
       "      <td>-0.234323</td>\n",
       "      <td>-0.194769</td>\n",
       "      <td>-0.096655</td>\n",
       "      <td>0.412820</td>\n",
       "      <td>-0.184484</td>\n",
       "      <td>-0.286449</td>\n",
       "    </tr>\n",
       "    <tr>\n",
       "      <th>99744</th>\n",
       "      <td>-1.220233</td>\n",
       "      <td>1.402616</td>\n",
       "      <td>0.555731</td>\n",
       "      <td>-0.039212</td>\n",
       "      <td>0.328129</td>\n",
       "      <td>0.012447</td>\n",
       "      <td>0.277539</td>\n",
       "      <td>0.595299</td>\n",
       "      <td>0.264265</td>\n",
       "      <td>0.057460</td>\n",
       "      <td>...</td>\n",
       "      <td>-0.348975</td>\n",
       "      <td>0.149666</td>\n",
       "      <td>0.010778</td>\n",
       "      <td>-0.007063</td>\n",
       "      <td>-0.287017</td>\n",
       "      <td>-0.225641</td>\n",
       "      <td>-0.185162</td>\n",
       "      <td>1.113627</td>\n",
       "      <td>0.169436</td>\n",
       "      <td>0.024849</td>\n",
       "    </tr>\n",
       "    <tr>\n",
       "      <th>99745</th>\n",
       "      <td>-0.438986</td>\n",
       "      <td>0.461479</td>\n",
       "      <td>0.801244</td>\n",
       "      <td>0.357578</td>\n",
       "      <td>-0.329339</td>\n",
       "      <td>-0.725959</td>\n",
       "      <td>-0.480579</td>\n",
       "      <td>-0.321559</td>\n",
       "      <td>-0.241697</td>\n",
       "      <td>0.001902</td>\n",
       "      <td>...</td>\n",
       "      <td>-0.236202</td>\n",
       "      <td>0.280166</td>\n",
       "      <td>-0.123845</td>\n",
       "      <td>-0.243513</td>\n",
       "      <td>-0.284446</td>\n",
       "      <td>-0.230821</td>\n",
       "      <td>-0.306870</td>\n",
       "      <td>0.845862</td>\n",
       "      <td>-0.368649</td>\n",
       "      <td>0.102378</td>\n",
       "    </tr>\n",
       "    <tr>\n",
       "      <th>99746</th>\n",
       "      <td>-0.856478</td>\n",
       "      <td>-0.305130</td>\n",
       "      <td>-0.579203</td>\n",
       "      <td>-0.303088</td>\n",
       "      <td>-0.088837</td>\n",
       "      <td>0.512104</td>\n",
       "      <td>0.852607</td>\n",
       "      <td>0.421025</td>\n",
       "      <td>-0.099590</td>\n",
       "      <td>-0.649966</td>\n",
       "      <td>...</td>\n",
       "      <td>-0.322785</td>\n",
       "      <td>0.151287</td>\n",
       "      <td>-0.175674</td>\n",
       "      <td>-0.153192</td>\n",
       "      <td>-0.281631</td>\n",
       "      <td>-0.204688</td>\n",
       "      <td>-0.181617</td>\n",
       "      <td>0.901573</td>\n",
       "      <td>-0.186372</td>\n",
       "      <td>-0.584563</td>\n",
       "    </tr>\n",
       "    <tr>\n",
       "      <th>99747</th>\n",
       "      <td>-1.877472</td>\n",
       "      <td>-0.648010</td>\n",
       "      <td>-0.913679</td>\n",
       "      <td>-0.455656</td>\n",
       "      <td>-0.385853</td>\n",
       "      <td>-1.060739</td>\n",
       "      <td>-0.263063</td>\n",
       "      <td>0.772858</td>\n",
       "      <td>-0.275831</td>\n",
       "      <td>-0.527648</td>\n",
       "      <td>...</td>\n",
       "      <td>-0.544753</td>\n",
       "      <td>0.120592</td>\n",
       "      <td>-0.068313</td>\n",
       "      <td>0.617738</td>\n",
       "      <td>-0.294600</td>\n",
       "      <td>-0.163597</td>\n",
       "      <td>0.595331</td>\n",
       "      <td>1.139793</td>\n",
       "      <td>-0.275394</td>\n",
       "      <td>0.150058</td>\n",
       "    </tr>\n",
       "  </tbody>\n",
       "</table>\n",
       "<p>99748 rows × 50 columns</p>\n",
       "</div>"
      ],
      "text/plain": [
       "       zcr_mean  raw_melspect_mean_4  raw_melspect_mean_5  \\\n",
       "0      0.167208             0.413676             0.351911   \n",
       "1      0.461319            -0.855740             0.033231   \n",
       "2      0.854948             0.191515            -0.750290   \n",
       "3      0.822960            -0.165756             0.174313   \n",
       "4      1.185489             0.244198            -0.320617   \n",
       "...         ...                  ...                  ...   \n",
       "99743 -0.331513             0.688131             0.232498   \n",
       "99744 -1.220233             1.402616             0.555731   \n",
       "99745 -0.438986             0.461479             0.801244   \n",
       "99746 -0.856478            -0.305130            -0.579203   \n",
       "99747 -1.877472            -0.648010            -0.913679   \n",
       "\n",
       "       raw_melspect_mean_6  raw_melspect_mean_7  raw_melspect_mean_8  \\\n",
       "0                 0.182678            -0.001713            -0.367584   \n",
       "1                -0.059496            -0.188944            -0.213440   \n",
       "2                -0.783740            -0.732563            -0.692779   \n",
       "3                -0.412357            -0.677561            -0.748280   \n",
       "4                -0.825520            -0.931514            -0.686089   \n",
       "...                    ...                  ...                  ...   \n",
       "99743            -0.014584             0.781043             0.300814   \n",
       "99744            -0.039212             0.328129             0.012447   \n",
       "99745             0.357578            -0.329339            -0.725959   \n",
       "99746            -0.303088            -0.088837             0.512104   \n",
       "99747            -0.455656            -0.385853            -1.060739   \n",
       "\n",
       "       raw_melspect_mean_9  raw_melspect_mean_10  raw_melspect_mean_11  \\\n",
       "0                -0.493130             -0.811764             -0.494151   \n",
       "1                 0.041397              0.137262              0.020711   \n",
       "2                -0.414533             -1.120994             -0.896223   \n",
       "3                -0.769436             -1.669452             -2.492285   \n",
       "4                -1.062352             -1.561100             -0.029832   \n",
       "...                    ...                   ...                   ...   \n",
       "99743             0.781700              0.192967             -0.249391   \n",
       "99744             0.277539              0.595299              0.264265   \n",
       "99745            -0.480579             -0.321559             -0.241697   \n",
       "99746             0.852607              0.421025             -0.099590   \n",
       "99747            -0.263063              0.772858             -0.275831   \n",
       "\n",
       "       raw_melspect_mean_12  ...  raw_contrast_mean_3  cln_flatness_mean  \\\n",
       "0                 -0.535799  ...            -0.193519           0.623446   \n",
       "1                 -0.150333  ...            -0.444102           0.947370   \n",
       "2                 -0.951161  ...            -0.664926           0.872882   \n",
       "3                 -0.867254  ...            -0.219770           1.150775   \n",
       "4                  0.035515  ...            -0.886440           0.438736   \n",
       "...                     ...  ...                  ...                ...   \n",
       "99743             -0.527454  ...            -0.038263           0.313846   \n",
       "99744              0.057460  ...            -0.348975           0.149666   \n",
       "99745              0.001902  ...            -0.236202           0.280166   \n",
       "99746             -0.649966  ...            -0.322785           0.151287   \n",
       "99747             -0.527648  ...            -0.544753           0.120592   \n",
       "\n",
       "       cln_centroid_mean  cln_centroid_std  cln_flux_mean  cln_flux_std  \\\n",
       "0               0.948781         -0.596810      -0.447192     -0.487065   \n",
       "1               0.847815         -0.609965      -0.548157     -0.530030   \n",
       "2               1.227718         -0.055447      -0.612837     -0.637614   \n",
       "3               1.022415         -0.495100      -0.791180     -0.688336   \n",
       "4               0.705754         -0.851836      -0.672211     -0.523607   \n",
       "...                  ...               ...            ...           ...   \n",
       "99743           0.071795         -0.097555      -0.234323     -0.194769   \n",
       "99744           0.010778         -0.007063      -0.287017     -0.225641   \n",
       "99745          -0.123845         -0.243513      -0.284446     -0.230821   \n",
       "99746          -0.175674         -0.153192      -0.281631     -0.204688   \n",
       "99747          -0.068313          0.617738      -0.294600     -0.163597   \n",
       "\n",
       "       cln_energy_std  cln_bandwidth_mean  cln_contrast_mean_3  \\\n",
       "0           -0.443302           -0.147406            -1.066098   \n",
       "1           -0.363591           -0.271310            -1.044733   \n",
       "2           -0.269222            0.188035            -0.305408   \n",
       "3           -0.372902            0.320006            -0.382392   \n",
       "4           -0.303215            0.116443            -0.754747   \n",
       "...               ...                 ...                  ...   \n",
       "99743       -0.096655            0.412820            -0.184484   \n",
       "99744       -0.185162            1.113627             0.169436   \n",
       "99745       -0.306870            0.845862            -0.368649   \n",
       "99746       -0.181617            0.901573            -0.186372   \n",
       "99747        0.595331            1.139793            -0.275394   \n",
       "\n",
       "       cln_contrast_mean_4  \n",
       "0                -1.427318  \n",
       "1                -0.224404  \n",
       "2                -0.778076  \n",
       "3                -1.623868  \n",
       "4                -0.204925  \n",
       "...                    ...  \n",
       "99743            -0.286449  \n",
       "99744             0.024849  \n",
       "99745             0.102378  \n",
       "99746            -0.584563  \n",
       "99747             0.150058  \n",
       "\n",
       "[99748 rows x 50 columns]"
      ]
     },
     "execution_count": 6,
     "metadata": {},
     "output_type": "execute_result"
    }
   ],
   "source": [
    "files"
   ]
  },
  {
   "cell_type": "code",
   "execution_count": 7,
   "metadata": {},
   "outputs": [],
   "source": [
    "labels = labels.drop(labels.columns[[0]], axis=1)"
   ]
  },
  {
   "cell_type": "code",
   "execution_count": 8,
   "metadata": {},
   "outputs": [
    {
     "data": {
      "text/html": [
       "<div>\n",
       "<style scoped>\n",
       "    .dataframe tbody tr th:only-of-type {\n",
       "        vertical-align: middle;\n",
       "    }\n",
       "\n",
       "    .dataframe tbody tr th {\n",
       "        vertical-align: top;\n",
       "    }\n",
       "\n",
       "    .dataframe thead th {\n",
       "        text-align: right;\n",
       "    }\n",
       "</style>\n",
       "<table border=\"1\" class=\"dataframe\">\n",
       "  <thead>\n",
       "    <tr style=\"text-align: right;\">\n",
       "      <th></th>\n",
       "      <th>overall_class_vote</th>\n",
       "      <th>class_vote_1</th>\n",
       "      <th>class_vote_2</th>\n",
       "      <th>class_vote_3</th>\n",
       "      <th>class_vote_4</th>\n",
       "      <th>class_vote_5</th>\n",
       "      <th>class_vote_6</th>\n",
       "      <th>class_vote_7</th>\n",
       "    </tr>\n",
       "  </thead>\n",
       "  <tbody>\n",
       "    <tr>\n",
       "      <th>0</th>\n",
       "      <td>0</td>\n",
       "      <td>0</td>\n",
       "      <td>0</td>\n",
       "      <td>0</td>\n",
       "      <td>0.0</td>\n",
       "      <td>0.0</td>\n",
       "      <td>0.0</td>\n",
       "      <td>NaN</td>\n",
       "    </tr>\n",
       "    <tr>\n",
       "      <th>1</th>\n",
       "      <td>0</td>\n",
       "      <td>0</td>\n",
       "      <td>0</td>\n",
       "      <td>0</td>\n",
       "      <td>0.0</td>\n",
       "      <td>0.0</td>\n",
       "      <td>0.0</td>\n",
       "      <td>NaN</td>\n",
       "    </tr>\n",
       "    <tr>\n",
       "      <th>2</th>\n",
       "      <td>0</td>\n",
       "      <td>0</td>\n",
       "      <td>0</td>\n",
       "      <td>0</td>\n",
       "      <td>0.0</td>\n",
       "      <td>0.0</td>\n",
       "      <td>0.0</td>\n",
       "      <td>NaN</td>\n",
       "    </tr>\n",
       "    <tr>\n",
       "      <th>3</th>\n",
       "      <td>0</td>\n",
       "      <td>0</td>\n",
       "      <td>0</td>\n",
       "      <td>0</td>\n",
       "      <td>0.0</td>\n",
       "      <td>0.0</td>\n",
       "      <td>0.0</td>\n",
       "      <td>NaN</td>\n",
       "    </tr>\n",
       "    <tr>\n",
       "      <th>4</th>\n",
       "      <td>0</td>\n",
       "      <td>0</td>\n",
       "      <td>0</td>\n",
       "      <td>0</td>\n",
       "      <td>0.0</td>\n",
       "      <td>0.0</td>\n",
       "      <td>0.0</td>\n",
       "      <td>NaN</td>\n",
       "    </tr>\n",
       "    <tr>\n",
       "      <th>...</th>\n",
       "      <td>...</td>\n",
       "      <td>...</td>\n",
       "      <td>...</td>\n",
       "      <td>...</td>\n",
       "      <td>...</td>\n",
       "      <td>...</td>\n",
       "      <td>...</td>\n",
       "      <td>...</td>\n",
       "    </tr>\n",
       "    <tr>\n",
       "      <th>99743</th>\n",
       "      <td>0</td>\n",
       "      <td>0</td>\n",
       "      <td>0</td>\n",
       "      <td>0</td>\n",
       "      <td>0.0</td>\n",
       "      <td>0.0</td>\n",
       "      <td>0.0</td>\n",
       "      <td>NaN</td>\n",
       "    </tr>\n",
       "    <tr>\n",
       "      <th>99744</th>\n",
       "      <td>0</td>\n",
       "      <td>0</td>\n",
       "      <td>0</td>\n",
       "      <td>0</td>\n",
       "      <td>0.0</td>\n",
       "      <td>0.0</td>\n",
       "      <td>0.0</td>\n",
       "      <td>NaN</td>\n",
       "    </tr>\n",
       "    <tr>\n",
       "      <th>99745</th>\n",
       "      <td>0</td>\n",
       "      <td>0</td>\n",
       "      <td>0</td>\n",
       "      <td>0</td>\n",
       "      <td>0.0</td>\n",
       "      <td>0.0</td>\n",
       "      <td>0.0</td>\n",
       "      <td>NaN</td>\n",
       "    </tr>\n",
       "    <tr>\n",
       "      <th>99746</th>\n",
       "      <td>0</td>\n",
       "      <td>0</td>\n",
       "      <td>0</td>\n",
       "      <td>0</td>\n",
       "      <td>0.0</td>\n",
       "      <td>0.0</td>\n",
       "      <td>0.0</td>\n",
       "      <td>NaN</td>\n",
       "    </tr>\n",
       "    <tr>\n",
       "      <th>99747</th>\n",
       "      <td>0</td>\n",
       "      <td>0</td>\n",
       "      <td>0</td>\n",
       "      <td>0</td>\n",
       "      <td>0.0</td>\n",
       "      <td>0.0</td>\n",
       "      <td>0.0</td>\n",
       "      <td>NaN</td>\n",
       "    </tr>\n",
       "  </tbody>\n",
       "</table>\n",
       "<p>99748 rows × 8 columns</p>\n",
       "</div>"
      ],
      "text/plain": [
       "       overall_class_vote  class_vote_1  class_vote_2  class_vote_3  \\\n",
       "0                       0             0             0             0   \n",
       "1                       0             0             0             0   \n",
       "2                       0             0             0             0   \n",
       "3                       0             0             0             0   \n",
       "4                       0             0             0             0   \n",
       "...                   ...           ...           ...           ...   \n",
       "99743                   0             0             0             0   \n",
       "99744                   0             0             0             0   \n",
       "99745                   0             0             0             0   \n",
       "99746                   0             0             0             0   \n",
       "99747                   0             0             0             0   \n",
       "\n",
       "       class_vote_4  class_vote_5  class_vote_6  class_vote_7  \n",
       "0               0.0           0.0           0.0           NaN  \n",
       "1               0.0           0.0           0.0           NaN  \n",
       "2               0.0           0.0           0.0           NaN  \n",
       "3               0.0           0.0           0.0           NaN  \n",
       "4               0.0           0.0           0.0           NaN  \n",
       "...             ...           ...           ...           ...  \n",
       "99743           0.0           0.0           0.0           NaN  \n",
       "99744           0.0           0.0           0.0           NaN  \n",
       "99745           0.0           0.0           0.0           NaN  \n",
       "99746           0.0           0.0           0.0           NaN  \n",
       "99747           0.0           0.0           0.0           NaN  \n",
       "\n",
       "[99748 rows x 8 columns]"
      ]
     },
     "execution_count": 8,
     "metadata": {},
     "output_type": "execute_result"
    }
   ],
   "source": [
    "labels"
   ]
  },
  {
   "cell_type": "code",
   "execution_count": 9,
   "metadata": {},
   "outputs": [],
   "source": [
    "X_train, X_test, y_train, y_test = train_test_split(files,labels['overall_class_vote'],test_size = 0.2,stratify=labels['overall_class_vote'], random_state=42)"
   ]
  },
  {
   "cell_type": "code",
   "execution_count": 21,
   "metadata": {},
   "outputs": [
    {
     "data": {
      "text/plain": [
       "0.8831578947368421"
      ]
     },
     "execution_count": 21,
     "metadata": {},
     "output_type": "execute_result"
    }
   ],
   "source": [
    "svm_rbf_classifier = svm.SVC(kernel='rbf', random_state=42, cache_size=1024, probability=True)\n",
    "\n",
    "svm_rbf_classifier.fit(X_train,y_train)\n",
    "# make prediction \n",
    "preds_svm = svm_rbf_classifier.predict(X_test) \n",
    "# check performance\n",
    "accuracy_score(preds_svm,y_test)"
   ]
  },
  {
   "cell_type": "code",
   "execution_count": 11,
   "metadata": {},
   "outputs": [],
   "source": [
    "# save model\n",
    "import pickle\n",
    "\n",
    "#os.makedirs('models')"
   ]
  },
  {
   "cell_type": "code",
   "execution_count": 23,
   "metadata": {},
   "outputs": [],
   "source": [
    "pickle.dump(svm_rbf_classifier, open('model_rbf', 'wb'))"
   ]
  },
  {
   "cell_type": "code",
   "execution_count": 30,
   "metadata": {},
   "outputs": [
    {
     "name": "stdout",
     "output_type": "stream",
     "text": [
      "F1 = 0.7859422007945971\n",
      "Precision = 0.8724014974689452\n",
      "Recall = 0.721549126684318\n",
      "confusion matrix\n",
      " [[13273    24    37    45     2    39    25]\n",
      " [  244   787     5    63     1     2     0]\n",
      " [  414    15  1088   182     7     6     2]\n",
      " [  349    40   148   977     3    12     5]\n",
      " [   72     7    41    20   292     5     2]\n",
      " [  302     3     3     4     4   625    14]\n",
      " [  144    10     2     5     0    23   577]]\n"
     ]
    },
    {
     "data": {
      "image/png": "[encoded data removed]",
      "text/plain": [
       "<Figure size 432x288 with 2 Axes>"
      ]
     },
     "metadata": {
      "needs_background": "light"
     },
     "output_type": "display_data"
    },
    {
     "name": "stdout",
     "output_type": "stream",
     "text": [
      "max savings:  7177.25\n",
      "savings:  4586.02 \n",
      "\n"
     ]
    }
   ],
   "source": [
    "get_savings(preds_svm, y_test)"
   ]
  },
  {
   "cell_type": "code",
   "execution_count": 12,
   "metadata": {},
   "outputs": [
    {
     "name": "stdout",
     "output_type": "stream",
     "text": [
      "0.8831578947368421\n"
     ]
    }
   ],
   "source": [
    "loaded_model = pickle.load(open('./models/model_rbf', 'rb'))\n",
    "result = loaded_model.score(X_test, y_test)\n",
    "print(result)"
   ]
  },
  {
   "cell_type": "code",
   "execution_count": 17,
   "metadata": {},
   "outputs": [
    {
     "name": "stdout",
     "output_type": "stream",
     "text": [
      "Classifier with kernel=rbf, C=0.01 -> accuracy = 0.7499749373433584\n"
     ]
    },
    {
     "name": "stderr",
     "output_type": "stream",
     "text": [
      "c:\\Users\\Sandro\\anaconda3\\envs\\ho2\\lib\\site-packages\\sklearn\\metrics\\_classification.py:1318: UndefinedMetricWarning: Precision is ill-defined and being set to 0.0 in labels with no predicted samples. Use `zero_division` parameter to control this behavior.\n",
      "  _warn_prf(average, modifier, msg_start, len(result))\n"
     ]
    },
    {
     "data": {
      "image/png": "[encoded data removed]",
      "text/plain": [
       "<Figure size 432x288 with 2 Axes>"
      ]
     },
     "metadata": {
      "needs_background": "light"
     },
     "output_type": "display_data"
    },
    {
     "name": "stdout",
     "output_type": "stream",
     "text": [
      "max savings:  7177.25\n",
      "savings:  1276.8600000000006 \n",
      "\n",
      "None\n",
      "-----------\n",
      "\n",
      "Classifier with kernel=rbf, C=0.5 -> accuracy = 0.8698245614035087\n"
     ]
    },
    {
     "data": {
      "image/png": "[encoded data removed]",
      "text/plain": [
       "<Figure size 432x288 with 2 Axes>"
      ]
     },
     "metadata": {
      "needs_background": "light"
     },
     "output_type": "display_data"
    },
    {
     "name": "stdout",
     "output_type": "stream",
     "text": [
      "max savings:  7177.25\n",
      "savings:  4271.68 \n",
      "\n",
      "None\n",
      "-----------\n",
      "\n",
      "Classifier with kernel=rbf, C=1.5 -> accuracy = 0.8897243107769424\n"
     ]
    },
    {
     "data": {
      "image/png": "[encoded data removed]",
      "text/plain": [
       "<Figure size 432x288 with 2 Axes>"
      ]
     },
     "metadata": {
      "needs_background": "light"
     },
     "output_type": "display_data"
    },
    {
     "name": "stdout",
     "output_type": "stream",
     "text": [
      "max savings:  7177.25\n",
      "savings:  4754.089999999999 \n",
      "\n",
      "None\n",
      "-----------\n",
      "\n",
      "Classifier with kernel=rbf, C=2 -> accuracy = 0.8934335839598998\n"
     ]
    },
    {
     "data": {
      "image/png": "[encoded data removed]",
      "text/plain": [
       "<Figure size 432x288 with 2 Axes>"
      ]
     },
     "metadata": {
      "needs_background": "light"
     },
     "output_type": "display_data"
    },
    {
     "name": "stdout",
     "output_type": "stream",
     "text": [
      "max savings:  7177.25\n",
      "savings:  4855.710000000001 \n",
      "\n",
      "None\n",
      "-----------\n",
      "\n",
      "Classifier with kernel=rbf, C=4 -> accuracy = 0.8996491228070176\n"
     ]
    },
    {
     "data": {
      "image/png": "[encoded data removed]",
      "text/plain": [
       "<Figure size 432x288 with 2 Axes>"
      ]
     },
     "metadata": {
      "needs_background": "light"
     },
     "output_type": "display_data"
    },
    {
     "name": "stdout",
     "output_type": "stream",
     "text": [
      "max savings:  7177.25\n",
      "savings:  5023.83 \n",
      "\n",
      "None\n",
      "-----------\n",
      "\n"
     ]
    }
   ],
   "source": [
    "from sklearn.model_selection import cross_validate,  StratifiedKFold\n",
    "from sklearn.metrics import average_precision_score, make_scorer\n",
    "\n",
    "ap = make_scorer(average_precision_score)\n",
    "\n",
    "\n",
    "svm_dict = {\n",
    "    'kernel': ['rbf'],\n",
    "    'C': [0.01, 0.5, 1.5, 2, 4]\n",
    "}\n",
    "\n",
    "cross_validation = StratifiedKFold(n_splits=5)\n",
    "accs_train = []\n",
    "accs_cv = []\n",
    "\n",
    "for kernel in svm_dict['kernel']:\n",
    "    for C in svm_dict['C']:\n",
    "        classifier = svm.SVC(kernel=kernel, C=C, random_state=42, cache_size=5120, probability=True)\n",
    "        classifier.fit(X_train, y_train)\n",
    "\n",
    "        pickle.dump(classifier, open(f'models/model_rbf_C_{C}', 'wb'))\n",
    "        # make prediction\n",
    "        pred = classifier.predict(X_test)\n",
    "        print(f'Classifier with kernel={kernel}, C={C} -> accuracy = {accuracy_score(pred, y_test)}')\n",
    "        print(get_savings(pred, y_test, 2))\n",
    "        print('-----------\\n')"
   ]
  },
  {
   "cell_type": "code",
   "execution_count": 14,
   "metadata": {},
   "outputs": [
    {
     "name": "stdout",
     "output_type": "stream",
     "text": [
      "0.8037593984962406\n"
     ]
    },
    {
     "data": {
      "image/png": "[encoded data removed]",
      "text/plain": [
       "<Figure size 432x288 with 2 Axes>"
      ]
     },
     "metadata": {
      "needs_background": "light"
     },
     "output_type": "display_data"
    },
    {
     "name": "stdout",
     "output_type": "stream",
     "text": [
      "max savings:  7177.25\n",
      "savings:  2789.0299999999997 \n",
      "\n",
      "None\n"
     ]
    }
   ],
   "source": [
    "loaded_model = pickle.load(open('./models/model_poly_degree_7', 'rb'))\n",
    "result = loaded_model.score(X_test, y_test)\n",
    "print(result)\n",
    "\n",
    "preds_svm = loaded_model.predict(X_test) \n",
    "print(get_savings(preds_svm, y_test, 2))"
   ]
  },
  {
   "cell_type": "code",
   "execution_count": 15,
   "metadata": {},
   "outputs": [
    {
     "name": "stdout",
     "output_type": "stream",
     "text": [
      "0.7878195488721804\n"
     ]
    },
    {
     "data": {
      "image/png": "[encoded data removed]",
      "text/plain": [
       "<Figure size 432x288 with 2 Axes>"
      ]
     },
     "metadata": {
      "needs_background": "light"
     },
     "output_type": "display_data"
    },
    {
     "name": "stdout",
     "output_type": "stream",
     "text": [
      "max savings:  7177.25\n",
      "savings:  2458.3900000000003 \n",
      "\n",
      "None\n"
     ]
    }
   ],
   "source": [
    "loaded_model = pickle.load(open('./models/model_poly_degree_9', 'rb'))\n",
    "result = loaded_model.score(X_test, y_test)\n",
    "print(result)\n",
    "\n",
    "preds_svm = loaded_model.predict(X_test) \n",
    "print(get_savings(preds_svm, y_test, 2))"
   ]
  },
  {
   "cell_type": "code",
   "execution_count": 16,
   "metadata": {},
   "outputs": [
    {
     "name": "stdout",
     "output_type": "stream",
     "text": [
      "0.7749874686716792\n"
     ]
    },
    {
     "data": {
      "image/png": "[encoded data removed]",
      "text/plain": [
       "<Figure size 432x288 with 2 Axes>"
      ]
     },
     "metadata": {
      "needs_background": "light"
     },
     "output_type": "display_data"
    },
    {
     "name": "stdout",
     "output_type": "stream",
     "text": [
      "max savings:  7177.25\n",
      "savings:  2182.29 \n",
      "\n",
      "None\n"
     ]
    }
   ],
   "source": [
    "loaded_model = pickle.load(open('./models/model_poly_degree_11', 'rb'))\n",
    "result = loaded_model.score(X_test, y_test)\n",
    "print(result)\n",
    "\n",
    "preds_svm = loaded_model.predict(X_test) \n",
    "print(get_savings(preds_svm, y_test, 2))"
   ]
  },
  {
   "cell_type": "code",
   "execution_count": 13,
   "metadata": {},
   "outputs": [],
   "source": [
    "with open('trainset_python/python/feature_names.txt') as f:\n",
    "    features = f.readlines()\n",
    "\n",
    "for i,feature in enumerate(features):\n",
    "    features[i] = feature.strip()"
   ]
  },
  {
   "cell_type": "code",
   "execution_count": 16,
   "metadata": {},
   "outputs": [],
   "source": [
    "test_data = []\n",
    "rootdir = os. getcwd()\n",
    "\n",
    "for i,f in enumerate(glob.glob('../testset_python/python/*.npy', recursive=True)):\n",
    "    file_stand = pd.DataFrame(StandardScaler().fit_transform(np.load(f)), columns = features)\n",
    "    test_data.append(file_stand)\n",
    "    \n",
    "test_data = np.array(test_data)"
   ]
  },
  {
   "cell_type": "code",
   "execution_count": 17,
   "metadata": {},
   "outputs": [
    {
     "data": {
      "text/plain": [
       "(16, 3000, 548)"
      ]
     },
     "execution_count": 17,
     "metadata": {},
     "output_type": "execute_result"
    }
   ],
   "source": [
    "test_data.shape"
   ]
  },
  {
   "cell_type": "code",
   "execution_count": null,
   "metadata": {},
   "outputs": [],
   "source": []
  },
  {
   "cell_type": "code",
   "execution_count": 18,
   "metadata": {},
   "outputs": [
    {
     "name": "stdout",
     "output_type": "stream",
     "text": [
      "[0.8831578947368421, 0.7499749373433584, 0.8698245614035087, 0.8897243107769424, 0.8934335839598998, 0.8996491228070176]\n"
     ]
    },
    {
     "data": {
      "image/png": "[encoded data removed]",
      "text/plain": [
       "<Figure size 432x288 with 2 Axes>"
      ]
     },
     "metadata": {
      "needs_background": "light"
     },
     "output_type": "display_data"
    },
    {
     "name": "stdout",
     "output_type": "stream",
     "text": [
      "max savings:  7177.25\n",
      "savings:  4586.02 \n",
      "\n",
      "None\n"
     ]
    },
    {
     "name": "stderr",
     "output_type": "stream",
     "text": [
      "C:\\Users\\Sandro\\anaconda3\\envs\\ho2\\lib\\site-packages\\sklearn\\metrics\\_classification.py:1318: UndefinedMetricWarning: Precision is ill-defined and being set to 0.0 in labels with no predicted samples. Use `zero_division` parameter to control this behavior.\n",
      "  _warn_prf(average, modifier, msg_start, len(result))\n"
     ]
    },
    {
     "data": {
      "image/png": "[encoded data removed]",
      "text/plain": [
       "<Figure size 432x288 with 2 Axes>"
      ]
     },
     "metadata": {
      "needs_background": "light"
     },
     "output_type": "display_data"
    },
    {
     "name": "stdout",
     "output_type": "stream",
     "text": [
      "max savings:  7177.25\n",
      "savings:  1276.8600000000006 \n",
      "\n",
      "None\n"
     ]
    },
    {
     "data": {
      "image/png": "[encoded data removed]",
      "text/plain": [
       "<Figure size 432x288 with 2 Axes>"
      ]
     },
     "metadata": {
      "needs_background": "light"
     },
     "output_type": "display_data"
    },
    {
     "name": "stdout",
     "output_type": "stream",
     "text": [
      "max savings:  7177.25\n",
      "savings:  4271.68 \n",
      "\n",
      "None\n"
     ]
    },
    {
     "data": {
      "image/png": "[encoded data removed]",
      "text/plain": [
       "<Figure size 432x288 with 2 Axes>"
      ]
     },
     "metadata": {
      "needs_background": "light"
     },
     "output_type": "display_data"
    },
    {
     "name": "stdout",
     "output_type": "stream",
     "text": [
      "max savings:  7177.25\n",
      "savings:  4754.089999999999 \n",
      "\n",
      "None\n"
     ]
    },
    {
     "data": {
      "image/png": "[encoded data removed]",
      "text/plain": [
       "<Figure size 432x288 with 2 Axes>"
      ]
     },
     "metadata": {
      "needs_background": "light"
     },
     "output_type": "display_data"
    },
    {
     "name": "stdout",
     "output_type": "stream",
     "text": [
      "max savings:  7177.25\n",
      "savings:  4855.710000000001 \n",
      "\n",
      "None\n"
     ]
    },
    {
     "data": {
      "image/png": "[encoded data removed]",
      "text/plain": [
       "<Figure size 432x288 with 2 Axes>"
      ]
     },
     "metadata": {
      "needs_background": "light"
     },
     "output_type": "display_data"
    },
    {
     "name": "stdout",
     "output_type": "stream",
     "text": [
      "max savings:  7177.25\n",
      "savings:  5023.83 \n",
      "\n",
      "None\n"
     ]
    }
   ],
   "source": [
    "loaded_model_rbf_C_10 = pickle.load(open('./models/model_rbf', 'rb'))\n",
    "loaded_model_rbf_C_001 = pickle.load(open('./models/model_rbf_C_0.01', 'rb'))\n",
    "loaded_model_rbf_C_05 = pickle.load(open('./models/model_rbf_C_0.5', 'rb'))\n",
    "loaded_model_rbf_C_15 = pickle.load(open('./models/model_rbf_C_1.5', 'rb'))\n",
    "loaded_model_rbf_C_20 = pickle.load(open('./models/model_rbf_C_2', 'rb'))\n",
    "loaded_model_rbf_C_40 = pickle.load(open('./models/model_rbf_C_4', 'rb'))\n",
    "\n",
    "results = []\n",
    "results.append(loaded_model_rbf_C_10.score(X_test, y_test))\n",
    "results.append(loaded_model_rbf_C_001.score(X_test, y_test))\n",
    "results.append(loaded_model_rbf_C_05.score(X_test, y_test))\n",
    "results.append(loaded_model_rbf_C_15.score(X_test, y_test))\n",
    "results.append(loaded_model_rbf_C_20.score(X_test, y_test))\n",
    "results.append(loaded_model_rbf_C_40.score(X_test, y_test))\n",
    "\n",
    "print(results)\n",
    "\n",
    "preds_svm = []\n",
    "\n",
    "preds_svm.append(loaded_model_rbf_C_10.predict(X_test))\n",
    "preds_svm.append(loaded_model_rbf_C_001.predict(X_test))\n",
    "preds_svm.append(loaded_model_rbf_C_05.predict(X_test))\n",
    "preds_svm.append(loaded_model_rbf_C_15.predict(X_test))\n",
    "preds_svm.append(loaded_model_rbf_C_20.predict(X_test))\n",
    "preds_svm.append(loaded_model_rbf_C_40.predict(X_test))\n",
    "\n",
    "for pred_svm in preds_svm:\n",
    "    print(get_savings(pred_svm, y_test, 2))"
   ]
  },
  {
   "cell_type": "code",
   "execution_count": null,
   "metadata": {},
   "outputs": [],
   "source": []
  },
  {
   "cell_type": "code",
   "execution_count": 21,
   "metadata": {},
   "outputs": [],
   "source": [
    "selected_features_50 = X_train.columns"
   ]
  },
  {
   "cell_type": "code",
   "execution_count": 22,
   "metadata": {},
   "outputs": [
    {
     "data": {
      "text/plain": [
       "Index(['zcr_mean', 'raw_melspect_mean_4', 'raw_melspect_mean_5',\n",
       "       'raw_melspect_mean_6', 'raw_melspect_mean_7', 'raw_melspect_mean_8',\n",
       "       'raw_melspect_mean_9', 'raw_melspect_mean_10', 'raw_melspect_mean_11',\n",
       "       'raw_melspect_mean_12', 'raw_mfcc_mean_0', 'raw_mfcc_mean_1',\n",
       "       'raw_mfcc_mean_2', 'raw_mfcc_mean_6', 'raw_mfcc_mean_7',\n",
       "       'raw_mfcc_mean_8', 'raw_mfcc_mean_9', 'raw_mfcc_mean_10',\n",
       "       'raw_mfcc_mean_11', 'raw_mfcc_mean_12', 'raw_mfcc_mean_13',\n",
       "       'raw_mfcc_mean_14', 'raw_mfcc_mean_15', 'raw_mfcc_mean_16',\n",
       "       'raw_mfcc_mean_17', 'raw_mfcc_std_0', 'raw_mfcc_std_1',\n",
       "       'raw_mfcc_d_mean_0', 'raw_mfcc_d_mean_1', 'raw_mfcc_d_std_0',\n",
       "       'raw_flatness_mean', 'raw_flatness_std', 'raw_centroid_mean',\n",
       "       'raw_flux_mean', 'raw_flux_std', 'raw_energy_mean', 'raw_energy_std',\n",
       "       'raw_power_mean', 'raw_power_std', 'raw_bandwidth_mean',\n",
       "       'raw_contrast_mean_3', 'cln_flatness_mean', 'cln_centroid_mean',\n",
       "       'cln_centroid_std', 'cln_flux_mean', 'cln_flux_std', 'cln_energy_std',\n",
       "       'cln_bandwidth_mean', 'cln_contrast_mean_3', 'cln_contrast_mean_4'],\n",
       "      dtype='object')"
      ]
     },
     "execution_count": 22,
     "metadata": {},
     "output_type": "execute_result"
    }
   ],
   "source": [
    "selected_features_50"
   ]
  },
  {
   "cell_type": "code",
   "execution_count": 23,
   "metadata": {},
   "outputs": [
    {
     "ename": "IndexError",
     "evalue": "only integers, slices (`:`), ellipsis (`...`), numpy.newaxis (`None`) and integer or boolean arrays are valid indices",
     "output_type": "error",
     "traceback": [
      "\u001b[1;31m---------------------------------------------------------------------------\u001b[0m",
      "\u001b[1;31mIndexError\u001b[0m                                Traceback (most recent call last)",
      "Input \u001b[1;32mIn [23]\u001b[0m, in \u001b[0;36m<cell line: 3>\u001b[1;34m()\u001b[0m\n\u001b[0;32m      4\u001b[0m file_50 \u001b[38;5;241m=\u001b[39m pd\u001b[38;5;241m.\u001b[39mDataFrame()\n\u001b[0;32m      5\u001b[0m \u001b[38;5;28;01mfor\u001b[39;00m idx \u001b[38;5;129;01min\u001b[39;00m selected_features_50:\n\u001b[1;32m----> 6\u001b[0m     file_50[idx] \u001b[38;5;241m=\u001b[39m \u001b[43mfile\u001b[49m\u001b[43m[\u001b[49m\u001b[43midx\u001b[49m\u001b[43m]\u001b[49m\n\u001b[0;32m      7\u001b[0m test_data_50\u001b[38;5;241m.\u001b[39mappend(file_50)\n\u001b[0;32m      9\u001b[0m \u001b[38;5;28;01mif\u001b[39;00m i \u001b[38;5;241m<\u001b[39m \u001b[38;5;241m10\u001b[39m:\n",
      "\u001b[1;31mIndexError\u001b[0m: only integers, slices (`:`), ellipsis (`...`), numpy.newaxis (`None`) and integer or boolean arrays are valid indices"
     ]
    }
   ],
   "source": [
    "test_data_50 = []\n",
    "\n",
    "for i,file in enumerate(test_data):\n",
    "    file_50 = pd.DataFrame()\n",
    "    for idx in selected_features_50:\n",
    "        file_50[idx] = file[idx]\n",
    "    test_data_50.append(file_50)\n",
    "    \n",
    "    if i < 10:\n",
    "        file_50.to_csv('data_test_temp/file_train_50_0' + str(i) + '.csv', index=False)\n",
    "    else:\n",
    "        file_50.to_csv('data_test_temp/file_train_50_' + str(i) + '.csv', index=False)\n",
    "\n",
    "    \n",
    "test_data_50[0] "
   ]
  },
  {
   "cell_type": "code",
   "execution_count": 27,
   "metadata": {},
   "outputs": [],
   "source": [
    "data_test_50 = []\n",
    "for i in range(10):\n",
    "    data_test_50.append(pd.read_csv('data_test_temp/file_train_50_0' + str(i)))\n",
    "for i in range(10,16):\n",
    "    data_test_50.append(pd.read_csv('data_test_temp/file_train_50_' + str(i)))\n",
    "data_test_50 = np.array(data_test_50)"
   ]
  },
  {
   "cell_type": "code",
   "execution_count": 29,
   "metadata": {},
   "outputs": [
    {
     "data": {
      "text/plain": [
       "(16, 3000, 50)"
      ]
     },
     "execution_count": 29,
     "metadata": {},
     "output_type": "execute_result"
    }
   ],
   "source": [
    "data_test_50.shape"
   ]
  },
  {
   "cell_type": "code",
   "execution_count": 38,
   "metadata": {},
   "outputs": [],
   "source": [
    "def postprocess(preds):\n",
    "    preds_post = np.copy(preds)\n",
    "    i_max = len(preds_post)\n",
    "    for i,c in enumerate(preds_post):\n",
    "        \n",
    "        # what to do with first prediction?\n",
    "        if i == 0:\n",
    "            pass\n",
    "        \n",
    "        # \n",
    "        if i > 0 and i < i_max-1:\n",
    "            if preds_post[i-1] == 2 and i > 1 and i < i_max-2:\n",
    "                if preds_post[i-2] == preds_post[i+2]:\n",
    "                    preds_post[i] = preds_post[i-1]\n",
    "        \n",
    "            # case yny flip to yyy, important to do before nyn to nnn\n",
    "            if preds_post[i-1] == preds_post[i+1] and preds_post[i-1] != 0:\n",
    "                preds_post[i] = preds_post[i-1]\n",
    "                       \n",
    "            # case nnynn flip to nnnnn if class not grswoo (because they have short calls)\n",
    "            if  i > 1 and i < i_max-2:\n",
    "                if preds_post[i-2] == preds_post[i-1] == preds_post[i+1] == preds_post[i+2] and preds_post[i] != 5:\n",
    "                    preds_post[i] = preds_post[i-1]\n",
    "\n",
    "            \n",
    "        '''\n",
    "        if i > 1 and i < len(preds_post)-2:\n",
    "            if preds_post[i-2] == preds_post[i-1] == preds_post[i+1] == preds_post[i+2]:\n",
    "                preds_post[i] = preds_post[i-1]\n",
    "        '''\n",
    "    return preds_post"
   ]
  },
  {
   "cell_type": "code",
   "execution_count": 96,
   "metadata": {},
   "outputs": [
    {
     "name": "stderr",
     "output_type": "stream",
     "text": [
      "C:\\Users\\Sandro\\anaconda3\\envs\\ho2\\lib\\site-packages\\sklearn\\base.py:450: UserWarning: X does not have valid feature names, but SVC was fitted with feature names\n",
      "  warnings.warn(\n",
      "C:\\Users\\Sandro\\anaconda3\\envs\\ho2\\lib\\site-packages\\sklearn\\base.py:450: UserWarning: X does not have valid feature names, but SVC was fitted with feature names\n",
      "  warnings.warn(\n",
      "C:\\Users\\Sandro\\anaconda3\\envs\\ho2\\lib\\site-packages\\sklearn\\base.py:450: UserWarning: X does not have valid feature names, but SVC was fitted with feature names\n",
      "  warnings.warn(\n",
      "C:\\Users\\Sandro\\anaconda3\\envs\\ho2\\lib\\site-packages\\sklearn\\base.py:450: UserWarning: X does not have valid feature names, but SVC was fitted with feature names\n",
      "  warnings.warn(\n",
      "C:\\Users\\Sandro\\anaconda3\\envs\\ho2\\lib\\site-packages\\sklearn\\base.py:450: UserWarning: X does not have valid feature names, but SVC was fitted with feature names\n",
      "  warnings.warn(\n",
      "C:\\Users\\Sandro\\anaconda3\\envs\\ho2\\lib\\site-packages\\sklearn\\base.py:450: UserWarning: X does not have valid feature names, but SVC was fitted with feature names\n",
      "  warnings.warn(\n",
      "C:\\Users\\Sandro\\anaconda3\\envs\\ho2\\lib\\site-packages\\sklearn\\base.py:450: UserWarning: X does not have valid feature names, but SVC was fitted with feature names\n",
      "  warnings.warn(\n",
      "C:\\Users\\Sandro\\anaconda3\\envs\\ho2\\lib\\site-packages\\sklearn\\base.py:450: UserWarning: X does not have valid feature names, but SVC was fitted with feature names\n",
      "  warnings.warn(\n",
      "C:\\Users\\Sandro\\anaconda3\\envs\\ho2\\lib\\site-packages\\sklearn\\base.py:450: UserWarning: X does not have valid feature names, but SVC was fitted with feature names\n",
      "  warnings.warn(\n",
      "C:\\Users\\Sandro\\anaconda3\\envs\\ho2\\lib\\site-packages\\sklearn\\base.py:450: UserWarning: X does not have valid feature names, but SVC was fitted with feature names\n",
      "  warnings.warn(\n",
      "C:\\Users\\Sandro\\anaconda3\\envs\\ho2\\lib\\site-packages\\sklearn\\base.py:450: UserWarning: X does not have valid feature names, but SVC was fitted with feature names\n",
      "  warnings.warn(\n",
      "C:\\Users\\Sandro\\anaconda3\\envs\\ho2\\lib\\site-packages\\sklearn\\base.py:450: UserWarning: X does not have valid feature names, but SVC was fitted with feature names\n",
      "  warnings.warn(\n",
      "C:\\Users\\Sandro\\anaconda3\\envs\\ho2\\lib\\site-packages\\sklearn\\base.py:450: UserWarning: X does not have valid feature names, but SVC was fitted with feature names\n",
      "  warnings.warn(\n",
      "C:\\Users\\Sandro\\anaconda3\\envs\\ho2\\lib\\site-packages\\sklearn\\base.py:450: UserWarning: X does not have valid feature names, but SVC was fitted with feature names\n",
      "  warnings.warn(\n",
      "C:\\Users\\Sandro\\anaconda3\\envs\\ho2\\lib\\site-packages\\sklearn\\base.py:450: UserWarning: X does not have valid feature names, but SVC was fitted with feature names\n",
      "  warnings.warn(\n",
      "C:\\Users\\Sandro\\anaconda3\\envs\\ho2\\lib\\site-packages\\sklearn\\base.py:450: UserWarning: X does not have valid feature names, but SVC was fitted with feature names\n",
      "  warnings.warn(\n"
     ]
    }
   ],
   "source": [
    "from csv import writer\n",
    "import datetime\n",
    "\n",
    "classifier = pickle.load(open('./models/model_rbf_C_4', 'rb'))\n",
    "\n",
    "curr_time = str(datetime.datetime.now())\n",
    "curr_time = curr_time.replace(':', '_')\n",
    "curr_time = curr_time.replace('.', '_')\n",
    "\n",
    "non_sequences = []\n",
    "post_sequences = []\n",
    "\n",
    "with open(f'Predictions/Prediction_post_{curr_time}.csv', 'w', newline='') as file:\n",
    "    writer_object = writer(file)\n",
    "    for i,test in enumerate(data_test_50):\n",
    "        chall_preds = classifier.predict(test)\n",
    "        non_sequences.append(chall_preds)\n",
    "        #print(f'file:{i}: {chall_preds}')\n",
    "        chall_preds_post = chall_preds\n",
    "        #chall_preds_post = postprocess(chall_preds)\n",
    "        #post_sequences.append(chall_preds_post)\n",
    "        \n",
    "        if i < 10:\n",
    "            lis_t = ['test0' + str(i)]\n",
    "            for value in chall_preds_post:\n",
    "                lis_t.append(str(value))\n",
    "            writer_object.writerow(lis_t)\n",
    "        else:\n",
    "            lis_t = ['test' + str(i)]\n",
    "            for value in chall_preds_post:\n",
    "                lis_t.append(str(value))\n",
    "            writer_object.writerow(lis_t)\n",
    "    file.close()"
   ]
  },
  {
   "cell_type": "code",
   "execution_count": 80,
   "metadata": {},
   "outputs": [],
   "source": [
    "import matplotlib.pyplot as plt\n",
    "\n",
    "def visualize_sequences(non_seq, post_seq, true_seq=[], first_n=500):\n",
    "    fig, ax = plt.subplots(nrows=3, ncols=1, figsize=(20,15))\n",
    "    \n",
    "    #ax[0].title('Raw predictions')\n",
    "    ax[0].set_xlim(0, first_n)  \n",
    "    ax[0].set_ylim(0, 5)  \n",
    "    \n",
    "    #ax[1].title('Post_processing predictions')\n",
    "    ax[1].set_xlim(0, first_n)  \n",
    "    ax[1].set_ylim(0, 5)  \n",
    "    \n",
    "    if true_seq != []:\n",
    "        #ax[1].title('Post_processing predictions')\n",
    "        ax[2].set_xlim(0, first_n)  \n",
    "        ax[2].set_ylim(0, 5)  \n",
    "        \n",
    "        for i, num in enumerate(true_seq[:first_n]):\n",
    "            ax[2].plot([i, i], [0, num], color='blue') \n",
    "\n",
    "    for i, num in enumerate(non_seq[:first_n]):\n",
    "        ax[0].plot([i, i], [0, num], color='blue') \n",
    "        \n",
    "    for i, num in enumerate(post_seq[:first_n]):\n",
    "        ax[1].plot([i, i], [0, num], color='blue') \n",
    "\n",
    "    plt.show()"
   ]
  },
  {
   "cell_type": "code",
   "execution_count": 74,
   "metadata": {},
   "outputs": [
    {
     "data": {
      "image/png": "[encoded data removed]",
      "text/plain": [
       "<Figure size 1440x1080 with 3 Axes>"
      ]
     },
     "metadata": {
      "needs_background": "light"
     },
     "output_type": "display_data"
    }
   ],
   "source": [
    "visualize_sequences(non_sequences[0], post_sequences[0], first_n=200)"
   ]
  },
  {
   "cell_type": "code",
   "execution_count": 75,
   "metadata": {},
   "outputs": [
    {
     "name": "stdout",
     "output_type": "stream",
     "text": [
      "[3 0 0 ... 0 0 2]\n"
     ]
    }
   ],
   "source": [
    "loaded_model = pickle.load(open('./models/model_rbf_C_4', 'rb'))\n",
    "\n",
    "preds_svm = loaded_model.predict(X_test) \n",
    "print(preds_svm)"
   ]
  },
  {
   "cell_type": "code",
   "execution_count": 76,
   "metadata": {},
   "outputs": [
    {
     "name": "stdout",
     "output_type": "stream",
     "text": [
      "[3 0 0 ... 0 0 2]\n"
     ]
    }
   ],
   "source": [
    "preds_svm_post = postprocess(preds_svm)\n",
    "print(pred_svm)"
   ]
  },
  {
   "cell_type": "code",
   "execution_count": 77,
   "metadata": {},
   "outputs": [
    {
     "name": "stdout",
     "output_type": "stream",
     "text": [
      "[2 0 0 ... 0 0 2]\n"
     ]
    }
   ],
   "source": [
    "print(np.array(y_test))"
   ]
  },
  {
   "cell_type": "code",
   "execution_count": 81,
   "metadata": {},
   "outputs": [
    {
     "name": "stderr",
     "output_type": "stream",
     "text": [
      "C:\\Users\\Sandro\\AppData\\Local\\Temp\\ipykernel_8104\\2228357094.py:14: DeprecationWarning: elementwise comparison failed; this will raise an error in the future.\n",
      "  if true_seq != []:\n"
     ]
    },
    {
     "data": {
      "image/png": "[encoded data removed]",
      "text/plain": [
       "<Figure size 1440x1080 with 3 Axes>"
      ]
     },
     "metadata": {
      "needs_background": "light"
     },
     "output_type": "display_data"
    }
   ],
   "source": [
    "visualize_sequences(preds_svm, preds_svm_post, np.array(y_test), first_n=200)"
   ]
  },
  {
   "cell_type": "code",
   "execution_count": 94,
   "metadata": {},
   "outputs": [
    {
     "data": {
      "image/png": "[encoded data removed]",
      "text/plain": [
       "<Figure size 432x288 with 2 Axes>"
      ]
     },
     "metadata": {
      "needs_background": "light"
     },
     "output_type": "display_data"
    },
    {
     "name": "stdout",
     "output_type": "stream",
     "text": [
      "max savings:  7177.25\n",
      "savings:  3427.85 \n",
      "\n"
     ]
    }
   ],
   "source": [
    "import numpy as np\n",
    "get_savings(preds_svm_post, y_test, 2)"
   ]
  },
  {
   "cell_type": "code",
   "execution_count": 95,
   "metadata": {},
   "outputs": [
    {
     "data": {
      "image/png": "[encoded data removed]",
      "text/plain": [
       "<Figure size 432x288 with 2 Axes>"
      ]
     },
     "metadata": {
      "needs_background": "light"
     },
     "output_type": "display_data"
    },
    {
     "name": "stdout",
     "output_type": "stream",
     "text": [
      "max savings:  7177.25\n",
      "savings:  5023.83 \n",
      "\n"
     ]
    }
   ],
   "source": [
    "get_savings(pred_svm, y_test, 2)"
   ]
  },
  {
   "cell_type": "code",
   "execution_count": null,
   "metadata": {},
   "outputs": [],
   "source": []
  }
 ],
 "metadata": {
  "kernelspec": {
   "display_name": "Python 3 (ipykernel)",
   "language": "python",
   "name": "python3"
  },
  "language_info": {
   "codemirror_mode": {
    "name": "ipython",
    "version": 3
   },
   "file_extension": ".py",
   "mimetype": "text/x-python",
   "name": "python",
   "nbconvert_exporter": "python",
   "pygments_lexer": "ipython3",
   "version": "3.9.12"
  }
 },
 "nbformat": 4,
 "nbformat_minor": 4
}
